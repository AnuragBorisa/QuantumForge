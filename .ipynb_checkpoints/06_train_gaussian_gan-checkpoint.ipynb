{
 "cells": [
  {
   "cell_type": "code",
   "execution_count": 7,
   "id": "10690431-7ce5-467d-ade3-fed8cb9e74b1",
   "metadata": {},
   "outputs": [],
   "source": [
    "import numpy as np\n",
    "real_np = np.random.normal(loc=0.0, scale=1.0, size=(10_000, 1))"
   ]
  },
  {
   "cell_type": "code",
   "execution_count": 8,
   "id": "11a4142b-4302-4fce-8cd4-1cc76f184203",
   "metadata": {},
   "outputs": [],
   "source": [
    "import torch \n",
    "from torch.utils.data import TensorDataset, DataLoader\n",
    "\n",
    "real_tensor = torch.from_numpy(real_np).float()\n",
    "dataset = TensorDataset(real_tensor)\n",
    "loader = DataLoader(dataset,batch_size=16,shuffle=True,drop_last=True)"
   ]
  },
  {
   "cell_type": "code",
   "execution_count": 9,
   "id": "715b2337-41e4-46f2-8c72-a7dd9027bdb3",
   "metadata": {},
   "outputs": [],
   "source": [
    "import torch.nn as nn\n",
    "import torch.optim as optim\n",
    "\n",
    "latent_dim = 100\n",
    "hidden_dim = 32\n",
    "data_dim = 1\n",
    "batch_size = 16\n",
    "lr = 2e-4"
   ]
  },
  {
   "cell_type": "code",
   "execution_count": 10,
   "id": "eecfbe5c-4e26-4893-9d0f-27df8e530b9a",
   "metadata": {},
   "outputs": [],
   "source": [
    "class Generator(nn.Module):\n",
    "    def __init__(self):\n",
    "        super().__init__()\n",
    "        self.model = nn.Sequential(\n",
    "            \n",
    "            nn.Linear(latent_dim, hidden_dim),\n",
    "            nn.ReLU(inplace=True),\n",
    "            \n",
    "            nn.Linear(hidden_dim, data_dim)\n",
    "        )\n",
    "    def forward(self,z):\n",
    "        return self.model(z)"
   ]
  },
  {
   "cell_type": "code",
   "execution_count": 11,
   "id": "b4db58c2-90f6-41b6-8586-7d92c2ab08fe",
   "metadata": {},
   "outputs": [],
   "source": [
    "class Discriminator(nn.Module):\n",
    "    def __init__(self):\n",
    "        super().__init__()\n",
    "        self.model = nn.Sequential(\n",
    "           \n",
    "            nn.Linear(data_dim, hidden_dim),\n",
    "            nn.LeakyReLU(0.2, inplace=True),\n",
    "            \n",
    "            nn.Linear(hidden_dim, 1),\n",
    "            nn.Sigmoid()\n",
    "        )\n",
    "    def forward(self,x):\n",
    "        return self.model(x);"
   ]
  },
  {
   "cell_type": "code",
   "execution_count": 12,
   "id": "077a605f-fcc6-44ec-a776-1b009072755a",
   "metadata": {},
   "outputs": [],
   "source": [
    "G = Generator()\n",
    "D = Discriminator()\n",
    "criterion = nn.BCELoss()\n",
    "opt_G = optim.Adam(G.parameters(), lr=2e-4)\n",
    "opt_D = optim.Adam(D.parameters(), lr=2e-4)"
   ]
  },
  {
   "cell_type": "code",
   "execution_count": 13,
   "id": "e2ccfc63-91ef-42cd-9788-63b175f79e5e",
   "metadata": {},
   "outputs": [
    {
     "name": "stdout",
     "output_type": "stream",
     "text": [
      "Step 0/2000  D-loss: 1.434  G-loss: 0.429\n",
      "Step 100/2000  D-loss: 1.404  G-loss: 0.508\n",
      "Step 200/2000  D-loss: 1.362  G-loss: 0.591\n",
      "Step 300/2000  D-loss: 1.322  G-loss: 0.654\n",
      "Step 400/2000  D-loss: 1.381  G-loss: 0.653\n",
      "Step 500/2000  D-loss: 1.316  G-loss: 0.627\n",
      "Step 600/2000  D-loss: 1.371  G-loss: 0.699\n",
      "Step 700/2000  D-loss: 1.348  G-loss: 0.753\n",
      "Step 800/2000  D-loss: 1.363  G-loss: 0.660\n",
      "Step 900/2000  D-loss: 1.651  G-loss: 0.642\n",
      "Step 1000/2000  D-loss: 1.399  G-loss: 0.667\n",
      "Step 1100/2000  D-loss: 1.413  G-loss: 0.728\n",
      "Step 1200/2000  D-loss: 1.402  G-loss: 0.767\n",
      "Step 1300/2000  D-loss: 1.461  G-loss: 0.661\n",
      "Step 1400/2000  D-loss: 1.410  G-loss: 0.668\n",
      "Step 1500/2000  D-loss: 1.414  G-loss: 0.739\n",
      "Step 1600/2000  D-loss: 1.369  G-loss: 0.705\n",
      "Step 1700/2000  D-loss: 1.356  G-loss: 0.750\n",
      "Step 1800/2000  D-loss: 1.357  G-loss: 0.745\n",
      "Step 1900/2000  D-loss: 1.344  G-loss: 0.747\n"
     ]
    }
   ],
   "source": [
    "\n",
    "\n",
    "num_steps   = 2000\n",
    "print_every = 100\n",
    "\n",
    "step = 0\n",
    "while step < num_steps:\n",
    "    for (real_batch,) in loader:\n",
    "        if step >= num_steps:\n",
    "            break\n",
    "\n",
    "        bsz = real_batch.size(0)\n",
    "        real_labels = torch.ones(bsz, 1)\n",
    "        fake_labels = torch.zeros(bsz, 1)\n",
    "\n",
    "       \n",
    "        D.zero_grad()\n",
    "       \n",
    "        out_real = D(real_batch)\n",
    "        loss_real = criterion(out_real, real_labels)\n",
    "        \n",
    "        z         = torch.randn(bsz, latent_dim)\n",
    "        fake_det  = G(z).detach()              \n",
    "        out_fake  = D(fake_det)\n",
    "        loss_fake = criterion(out_fake, fake_labels)\n",
    "\n",
    "        loss_D = loss_real + loss_fake\n",
    "        loss_D.backward()\n",
    "        opt_D.step()\n",
    "\n",
    "       \n",
    "        G.zero_grad()\n",
    "        z      = torch.randn(bsz, latent_dim)\n",
    "        fake   = G(z)\n",
    "        out_Df = D(fake)\n",
    "        \n",
    "        loss_G = criterion(out_Df, real_labels)\n",
    "        loss_G.backward()\n",
    "        opt_G.step()\n",
    "\n",
    "       \n",
    "        if step % print_every == 0:\n",
    "            print(f\"Step {step}/{num_steps}  D-loss: {loss_D.item():.3f}  G-loss: {loss_G.item():.3f}\")\n",
    "        step += 1\n"
   ]
  },
  {
   "cell_type": "code",
   "execution_count": 14,
   "id": "4f17878c-4bc6-4372-a8e7-4e5d668a08ab",
   "metadata": {},
   "outputs": [
    {
     "data": {
      "image/png": "[encoded data removed]",
      "text/plain": [
       "<Figure size 640x480 with 1 Axes>"
      ]
     },
     "metadata": {},
     "output_type": "display_data"
    }
   ],
   "source": [
    "import matplotlib.pyplot as plt\n",
    "\n",
    "\n",
    "real_viz = real_tensor[:1000].numpy().flatten()\n",
    "\n",
    "z_viz    = torch.randn(1000, latent_dim)\n",
    "fake_viz = G(z_viz).detach().numpy().flatten()\n",
    "\n",
    "\n",
    "plt.hist(real_viz, bins=30, alpha=0.5, density=True, label=\"Real\")\n",
    "plt.hist(fake_viz, bins=30, alpha=0.5, density=True, label=\"Fake\")\n",
    "plt.legend()\n",
    "plt.title(\"Real vs. Fake Gaussian\")\n",
    "plt.xlabel(\"Value\")\n",
    "plt.ylabel(\"Density\")\n",
    "plt.show()\n"
   ]
  },
  {
   "cell_type": "code",
   "execution_count": 15,
   "id": "d89a19bb-ed0c-4f7c-842a-6a7ff371c234",
   "metadata": {},
   "outputs": [],
   "source": [
    "torch.save(G.state_dict(), \"generator.pth\")\n",
    "torch.save(D.state_dict(), \"discriminator.pth\")"
   ]
  },
  {
   "cell_type": "code",
   "execution_count": null,
   "id": "0414c5bb-61e9-4312-a0e3-c60e097d3b9a",
   "metadata": {},
   "outputs": [],
   "source": []
  }
 ],
 "metadata": {
  "kernelspec": {
   "display_name": "Python 3 (ipykernel)",
   "language": "python",
   "name": "python3"
  },
  "language_info": {
   "codemirror_mode": {
    "name": "ipython",
    "version": 3
   },
   "file_extension": ".py",
   "mimetype": "text/x-python",
   "name": "python",
   "nbconvert_exporter": "python",
   "pygments_lexer": "ipython3",
   "version": "3.9.6"
  }
 },
 "nbformat": 4,
 "nbformat_minor": 5
}

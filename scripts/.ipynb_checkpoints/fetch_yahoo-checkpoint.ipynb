{
 "cells": [
  {
   "cell_type": "code",
   "execution_count": null,
   "id": "df7273eb-0bf1-4945-9e34-4deabe8e681e",
   "metadata": {},
   "outputs": [],
   "source": [
    "import os \n",
    "from datetime import datetime ,timedelta\n",
    "\n",
    "import numpy as np\n",
    "import pandas as pd\n",
    "import yfinance as yf\n",
    "import matplotlib.pyplot as plt\n",
    "\n",
    "%matplotlib inline\n"
   ]
  },
  {
   "cell_type": "code",
   "execution_count": null,
   "id": "f6c1384f-5301-4c3d-b144-b85c5bc4cfec",
   "metadata": {},
   "outputs": [],
   "source": [
    "TICKER = 'AAPL'\n",
    "YEARS = 2\n"
   ]
  },
  {
   "cell_type": "code",
   "execution_count": null,
   "id": "1462b8ef-c142-4c73-964a-f7ff23d4d5ce",
   "metadata": {},
   "outputs": [],
   "source": [
    "end_date = datetime.today()\n",
    "start_date = end_date - timedelta(days =365 * YEARS)\n",
    "df = yf.TICKER(TICKER).history(start=start_date,end=end_date)\n",
    "\n",
    "df.head() , df.tail()\n"
   ]
  },
  {
   "cell_type": "code",
   "execution_count": null,
   "id": "b5c31231-8231-4227-acd4-55bd98cb2014",
   "metadata": {},
   "outputs": [],
   "source": [
    "prices = df('Adj Close').dropna()\n",
    "log_returns = np.log(prices/prices.shift(1)).dropna()\n",
    "print(f\"Skewness: {log_returns.skew():.3f}\")\n",
    "print(f\"Kurtosis: {log_returns.kurtosis():.3f}\")\n"
   ]
  },
  {
   "cell_type": "code",
   "execution_count": null,
   "id": "9a7cdd8c-b241-4b81-aa43-a33926c10725",
   "metadata": {},
   "outputs": [],
   "source": [
    "plt.figure(figsize=(8,5))\n",
    "plt.hist(log_returns, bins=50, density=True, edgecolor='w')\n",
    "plt.title(f\"{TICKER} Daily Log-Returns\")\n",
    "plt.xlabel(\"Log-Return\")\n",
    "plt.ylabel(\"Density\")\n",
    "plt.grid(alpha=0.3)\n",
    "plt.show()\n"
   ]
  },
  {
   "cell_type": "code",
   "execution_count": null,
   "id": "2c48d665-b568-439f-a745-bb25878aca49",
   "metadata": {},
   "outputs": [],
   "source": [
    "os.makedirs('data', exist_ok=True)\n",
    "\n",
    "out = pd.DataFrame({\n",
    "    'Adj Close': prices,\n",
    "    'LogReturn': log_returns\n",
    "})\n",
    "out.to_csv('data/real_prices.csv', index_label='Date')\n",
    "print(\"✓ Saved → data/real_prices.csv\")"
   ]
  }
 ],
 "metadata": {
  "kernelspec": {
   "display_name": "Python 3 (ipykernel)",
   "language": "python",
   "name": "python3"
  },
  "language_info": {
   "codemirror_mode": {
    "name": "ipython",
    "version": 3
   },
   "file_extension": ".py",
   "mimetype": "text/x-python",
   "name": "python",
   "nbconvert_exporter": "python",
   "pygments_lexer": "ipython3",
   "version": "3.9.6"
  }
 },
 "nbformat": 4,
 "nbformat_minor": 5
}

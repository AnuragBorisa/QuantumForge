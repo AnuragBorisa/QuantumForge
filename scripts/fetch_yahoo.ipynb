{
 "cells": [
  {
   "cell_type": "code",
   "execution_count": 16,
   "id": "df7273eb-0bf1-4945-9e34-4deabe8e681e",
   "metadata": {},
   "outputs": [],
   "source": [
    "import os \n",
    "from datetime import datetime ,timedelta\n",
    "\n",
    "import numpy as np\n",
    "import pandas as pd\n",
    "import yfinance as yf\n",
    "import matplotlib.pyplot as plt\n",
    "\n",
    "%matplotlib inline\n"
   ]
  },
  {
   "cell_type": "code",
   "execution_count": 17,
   "id": "f6c1384f-5301-4c3d-b144-b85c5bc4cfec",
   "metadata": {},
   "outputs": [],
   "source": [
    "TICKER = 'AAPL'\n",
    "YEARS = 2\n"
   ]
  },
  {
   "cell_type": "code",
   "execution_count": 18,
   "id": "1462b8ef-c142-4c73-964a-f7ff23d4d5ce",
   "metadata": {},
   "outputs": [
    {
     "data": {
      "text/plain": [
       "(                                 Open        High         Low       Close  \\\n",
       " Date                                                                        \n",
       " 2023-07-07 00:00:00-04:00  189.512554  190.760058  188.354154  188.789780   \n",
       " 2023-07-10 00:00:00-04:00  187.383861  188.106636  185.185867  186.740311   \n",
       " 2023-07-11 00:00:00-04:00  187.284872  187.423484  184.750252  186.215576   \n",
       " 2023-07-12 00:00:00-04:00  187.799690  189.799670  186.601693  187.888809   \n",
       " 2023-07-13 00:00:00-04:00  188.611572  189.294734  187.898708  188.651169   \n",
       " \n",
       "                              Volume  Dividends  Stock Splits  \n",
       " Date                                                          \n",
       " 2023-07-07 00:00:00-04:00  46778000        0.0           0.0  \n",
       " 2023-07-10 00:00:00-04:00  59922200        0.0           0.0  \n",
       " 2023-07-11 00:00:00-04:00  46638100        0.0           0.0  \n",
       " 2023-07-12 00:00:00-04:00  60750200        0.0           0.0  \n",
       " 2023-07-13 00:00:00-04:00  41342300        0.0           0.0  ,\n",
       "                                  Open        High         Low       Close  \\\n",
       " Date                                                                        \n",
       " 2025-06-27 00:00:00-04:00  201.889999  203.220001  200.000000  201.080002   \n",
       " 2025-06-30 00:00:00-04:00  202.009995  207.389999  199.259995  205.169998   \n",
       " 2025-07-01 00:00:00-04:00  206.669998  210.190002  206.139999  207.820007   \n",
       " 2025-07-02 00:00:00-04:00  208.910004  213.339996  208.139999  212.440002   \n",
       " 2025-07-03 00:00:00-04:00  212.149994  214.649994  211.809998  213.550003   \n",
       " \n",
       "                              Volume  Dividends  Stock Splits  \n",
       " Date                                                          \n",
       " 2025-06-27 00:00:00-04:00  73188600        0.0           0.0  \n",
       " 2025-06-30 00:00:00-04:00  91912800        0.0           0.0  \n",
       " 2025-07-01 00:00:00-04:00  78788900        0.0           0.0  \n",
       " 2025-07-02 00:00:00-04:00  67941800        0.0           0.0  \n",
       " 2025-07-03 00:00:00-04:00  34955800        0.0           0.0  )"
      ]
     },
     "execution_count": 18,
     "metadata": {},
     "output_type": "execute_result"
    }
   ],
   "source": [
    "end_date = datetime.today()\n",
    "start_date = end_date - timedelta(days =365 * YEARS)\n",
    "df = yf.Ticker(TICKER).history(start=start_date,end=end_date)\n",
    "\n",
    "df.head() , df.tail()\n"
   ]
  },
  {
   "cell_type": "code",
   "execution_count": 19,
   "id": "b5c31231-8231-4227-acd4-55bd98cb2014",
   "metadata": {},
   "outputs": [
    {
     "name": "stdout",
     "output_type": "stream",
     "text": [
      "Skewness: 0.516\n",
      "Kurtosis: 12.288\n"
     ]
    }
   ],
   "source": [
    "prices = df['Close'].dropna()\n",
    "log_returns = np.log(prices/prices.shift(1)).dropna()\n",
    "print(f\"Skewness: {log_returns.skew():.3f}\")\n",
    "print(f\"Kurtosis: {log_returns.kurtosis():.3f}\")\n"
   ]
  },
  {
   "cell_type": "code",
   "execution_count": 20,
   "id": "9a7cdd8c-b241-4b81-aa43-a33926c10725",
   "metadata": {},
   "outputs": [
    {
     "data": {
      "image/png": "[encoded data removed]",
      "text/plain": [
       "<Figure size 800x500 with 1 Axes>"
      ]
     },
     "metadata": {},
     "output_type": "display_data"
    }
   ],
   "source": [
    "plt.figure(figsize=(8,5))\n",
    "plt.hist(log_returns, bins=50, density=True, edgecolor='w')\n",
    "plt.title(f\"{TICKER} Daily Log-Returns\")\n",
    "plt.xlabel(\"Log-Return\")\n",
    "plt.ylabel(\"Density\")\n",
    "plt.grid(alpha=0.3)\n",
    "plt.show()\n"
   ]
  },
  {
   "cell_type": "code",
   "execution_count": 21,
   "id": "2c48d665-b568-439f-a745-bb25878aca49",
   "metadata": {},
   "outputs": [
    {
     "name": "stdout",
     "output_type": "stream",
     "text": [
      "✓ Saved → data/real_prices.csv\n"
     ]
    }
   ],
   "source": [
    "os.makedirs('data', exist_ok=True)\n",
    "\n",
    "out = pd.DataFrame({\n",
    "    'Adj Close': prices,\n",
    "    'LogReturn': log_returns\n",
    "})\n",
    "out.to_csv('data/real_prices.csv', index_label='Date')\n",
    "print(\"✓ Saved → data/real_prices.csv\")"
   ]
  }
 ],
 "metadata": {
  "kernelspec": {
   "display_name": "Python 3 (ipykernel)",
   "language": "python",
   "name": "python3"
  },
  "language_info": {
   "codemirror_mode": {
    "name": "ipython",
    "version": 3
   },
   "file_extension": ".py",
   "mimetype": "text/x-python",
   "name": "python",
   "nbconvert_exporter": "python",
   "pygments_lexer": "ipython3",
   "version": "3.9.6"
  }
 },
 "nbformat": 4,
 "nbformat_minor": 5
}

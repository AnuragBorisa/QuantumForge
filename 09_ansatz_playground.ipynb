{
 "cells": [
  {
   "cell_type": "code",
   "execution_count": 36,
   "id": "d7ff566b-420d-46f8-8deb-2b96d5a82a02",
   "metadata": {},
   "outputs": [
    {
     "ename": "NameError",
     "evalue": "name 'np' is not defined",
     "output_type": "error",
     "traceback": [
      "\u001b[0;31m---------------------------------------------------------------------------\u001b[0m",
      "\u001b[0;31mNameError\u001b[0m                                 Traceback (most recent call last)",
      "Cell \u001b[0;32mIn[36], line 12\u001b[0m\n\u001b[1;32m      3\u001b[0m \u001b[38;5;28;01mfrom\u001b[39;00m\u001b[38;5;250m \u001b[39m\u001b[38;5;21;01mqiskit_aer\u001b[39;00m\u001b[38;5;250m \u001b[39m\u001b[38;5;28;01mimport\u001b[39;00m AerSimulator \n\u001b[1;32m      5\u001b[0m ansatz \u001b[38;5;241m=\u001b[39m TwoLocal(\n\u001b[1;32m      6\u001b[0m      num_qubits \u001b[38;5;241m=\u001b[39m \u001b[38;5;241m3\u001b[39m,\n\u001b[1;32m      7\u001b[0m      rotation_blocks \u001b[38;5;241m=\u001b[39m \u001b[38;5;124m'\u001b[39m\u001b[38;5;124mry\u001b[39m\u001b[38;5;124m'\u001b[39m,\n\u001b[0;32m   (...)\u001b[0m\n\u001b[1;32m     10\u001b[0m      entanglement       \u001b[38;5;241m=\u001b[39m \u001b[38;5;124m'\u001b[39m\u001b[38;5;124mlinear\u001b[39m\u001b[38;5;124m'\u001b[39m\n\u001b[1;32m     11\u001b[0m )\n\u001b[0;32m---> 12\u001b[0m random_binds \u001b[38;5;241m=\u001b[39m {p: np\u001b[38;5;241m.\u001b[39mrandom\u001b[38;5;241m.\u001b[39mrand()\u001b[38;5;241m*\u001b[39m\u001b[38;5;241m2\u001b[39m\u001b[38;5;241m*\u001b[39mnp\u001b[38;5;241m.\u001b[39mpi \u001b[38;5;28;01mfor\u001b[39;00m p \u001b[38;5;129;01min\u001b[39;00m ansatz\u001b[38;5;241m.\u001b[39mparameters}\n",
      "Cell \u001b[0;32mIn[36], line 12\u001b[0m, in \u001b[0;36m<dictcomp>\u001b[0;34m(.0)\u001b[0m\n\u001b[1;32m      3\u001b[0m \u001b[38;5;28;01mfrom\u001b[39;00m\u001b[38;5;250m \u001b[39m\u001b[38;5;21;01mqiskit_aer\u001b[39;00m\u001b[38;5;250m \u001b[39m\u001b[38;5;28;01mimport\u001b[39;00m AerSimulator \n\u001b[1;32m      5\u001b[0m ansatz \u001b[38;5;241m=\u001b[39m TwoLocal(\n\u001b[1;32m      6\u001b[0m      num_qubits \u001b[38;5;241m=\u001b[39m \u001b[38;5;241m3\u001b[39m,\n\u001b[1;32m      7\u001b[0m      rotation_blocks \u001b[38;5;241m=\u001b[39m \u001b[38;5;124m'\u001b[39m\u001b[38;5;124mry\u001b[39m\u001b[38;5;124m'\u001b[39m,\n\u001b[0;32m   (...)\u001b[0m\n\u001b[1;32m     10\u001b[0m      entanglement       \u001b[38;5;241m=\u001b[39m \u001b[38;5;124m'\u001b[39m\u001b[38;5;124mlinear\u001b[39m\u001b[38;5;124m'\u001b[39m\n\u001b[1;32m     11\u001b[0m )\n\u001b[0;32m---> 12\u001b[0m random_binds \u001b[38;5;241m=\u001b[39m {p: \u001b[43mnp\u001b[49m\u001b[38;5;241m.\u001b[39mrandom\u001b[38;5;241m.\u001b[39mrand()\u001b[38;5;241m*\u001b[39m\u001b[38;5;241m2\u001b[39m\u001b[38;5;241m*\u001b[39mnp\u001b[38;5;241m.\u001b[39mpi \u001b[38;5;28;01mfor\u001b[39;00m p \u001b[38;5;129;01min\u001b[39;00m ansatz\u001b[38;5;241m.\u001b[39mparameters}\n",
      "\u001b[0;31mNameError\u001b[0m: name 'np' is not defined"
     ]
    }
   ],
   "source": [
    "from qiskit.circuit.library import TwoLocal\n",
    "\n",
    "from qiskit_aer import AerSimulator \n",
    "\n",
    "ansatz = TwoLocal(\n",
    "     num_qubits = 3,\n",
    "     rotation_blocks = 'ry',\n",
    "     entanglement_blocks = 'rz',\n",
    "     reps = 2,\n",
    "     entanglement       = 'linear'\n",
    ")\n",
    "random_binds = {p: np.random.rand()*2*np.pi for p in ansatz.parameters}"
   ]
  },
  {
   "cell_type": "code",
   "execution_count": null,
   "id": "7db96e3a-1d70-4f01-8d82-45523f19a996",
   "metadata": {},
   "outputs": [],
   "source": [
    "# ansatz.draw('mpl', fold=-1)\n",
    "print(\"Number of parameters →\", len(ansatz.parameters))\n"
   ]
  },
  {
   "cell_type": "code",
   "execution_count": null,
   "id": "d0a2632a-66e7-45ad-9666-b2ecb50072d6",
   "metadata": {},
   "outputs": [],
   "source": [
    "from qiskit import transpile\n",
    "\n",
    "\n",
    "qc = ansatz.assign_parameters(random_binds)\n",
    "qc.measure_all()\n",
    "\n",
    "sim = AerSimulator()\n",
    "qc_t = transpile(qc,sim)\n",
    "job = sim.run(qc_t,shots=1024)\n",
    "counts = job.result().get_counts()\n",
    "\n",
    "print(\"Outcomes seen:\", counts.keys())\n",
    "\n"
   ]
  },
  {
   "cell_type": "code",
   "execution_count": null,
   "id": "a9c0fc8c-2ab2-4ed7-b9b0-2de04f82216f",
   "metadata": {},
   "outputs": [],
   "source": []
  }
 ],
 "metadata": {
  "kernelspec": {
   "display_name": "Python 3 (ipykernel)",
   "language": "python",
   "name": "python3"
  },
  "language_info": {
   "codemirror_mode": {
    "name": "ipython",
    "version": 3
   },
   "file_extension": ".py",
   "mimetype": "text/x-python",
   "name": "python",
   "nbconvert_exporter": "python",
   "pygments_lexer": "ipython3",
   "version": "3.9.6"
  }
 },
 "nbformat": 4,
 "nbformat_minor": 5
}

{
 "cells": [
  {
   "cell_type": "code",
   "execution_count": 40,
   "id": "d7ff566b-420d-46f8-8deb-2b96d5a82a02",
   "metadata": {},
   "outputs": [],
   "source": [
    "from qiskit.circuit.library import TwoLocal\n",
    "import numpy as np\n",
    "from qiskit_aer import AerSimulator \n",
    "\n",
    "ansatz = TwoLocal(\n",
    "     num_qubits = 3,\n",
    "     rotation_blocks = 'ry',\n",
    "     entanglement_blocks = 'rz',\n",
    "     reps = 2,\n",
    "     entanglement       = 'linear'\n",
    ")\n",
    "random_binds = {p: np.random.rand()*2*np.pi for p in ansatz.parameters} "
   ]
  },
  {
   "cell_type": "code",
   "execution_count": 41,
   "id": "7db96e3a-1d70-4f01-8d82-45523f19a996",
   "metadata": {},
   "outputs": [
    {
     "name": "stdout",
     "output_type": "stream",
     "text": [
      "Number of parameters → 15\n"
     ]
    }
   ],
   "source": [
    "# ansatz.draw('mpl', fold=-1)\n",
    "print(\"Number of parameters →\", len(ansatz.parameters))\n"
   ]
  },
  {
   "cell_type": "code",
   "execution_count": 42,
   "id": "d0a2632a-66e7-45ad-9666-b2ecb50072d6",
   "metadata": {},
   "outputs": [
    {
     "name": "stdout",
     "output_type": "stream",
     "text": [
      "Outcomes seen: dict_keys(['100', '110', '001', '111', '011', '000', '010', '101'])\n"
     ]
    }
   ],
   "source": [
    "from qiskit import transpile\n",
    "\n",
    "\n",
    "qc = ansatz.assign_parameters(random_binds)\n",
    "qc.measure_all()\n",
    "\n",
    "sim = AerSimulator()\n",
    "qc_t = transpile(qc,sim)\n",
    "job = sim.run(qc_t,shots=1024)\n",
    "counts = job.result().get_counts()\n",
    "\n",
    "print(\"Outcomes seen:\", counts.keys())\n",
    "\n"
   ]
  },
  {
   "cell_type": "code",
   "execution_count": null,
   "id": "a9c0fc8c-2ab2-4ed7-b9b0-2de04f82216f",
   "metadata": {},
   "outputs": [],
   "source": []
  }
 ],
 "metadata": {
  "kernelspec": {
   "display_name": "Python 3 (ipykernel)",
   "language": "python",
   "name": "python3"
  },
  "language_info": {
   "codemirror_mode": {
    "name": "ipython",
    "version": 3
   },
   "file_extension": ".py",
   "mimetype": "text/x-python",
   "name": "python",
   "nbconvert_exporter": "python",
   "pygments_lexer": "ipython3",
   "version": "3.9.6"
  }
 },
 "nbformat": 4,
 "nbformat_minor": 5
}

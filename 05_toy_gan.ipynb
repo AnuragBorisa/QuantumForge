{
 "cells": [
  {
   "cell_type": "code",
   "execution_count": 10,
   "id": "2b783da3-2675-4892-aca8-a4866939b896",
   "metadata": {},
   "outputs": [],
   "source": [
    "import torch \n",
    "import torch.nn as nn\n",
    "import torch.optim as optim\n",
    "\n",
    "latent_dim = 100\n",
    "hidden_dim = 32\n",
    "data_dim = 1\n",
    "batch_size = 16\n",
    "lr = 2e-4"
   ]
  },
  {
   "cell_type": "code",
   "execution_count": 11,
   "id": "4067de70-9061-4515-9cad-f59adc61852e",
   "metadata": {},
   "outputs": [],
   "source": [
    "class Generator(nn.Module):\n",
    "    def __init__(self):\n",
    "        super().__init__()\n",
    "        self.model = nn.Sequential(\n",
    "            \n",
    "            nn.Linear(latent_dim, hidden_dim),\n",
    "            nn.ReLU(inplace=True),\n",
    "            \n",
    "            nn.Linear(hidden_dim, data_dim)\n",
    "        )\n",
    "    def forward(self,z):\n",
    "        return self.model(z)\n",
    "       \n",
    "        "
   ]
  },
  {
   "cell_type": "code",
   "execution_count": 12,
   "id": "a3256d93-27ee-43c6-88bf-b6c4ab5af74f",
   "metadata": {},
   "outputs": [],
   "source": [
    "class Discriminator(nn.Module):\n",
    "    def __init__(self):\n",
    "        super().__init__()\n",
    "        self.model = nn.Sequential(\n",
    "           \n",
    "            nn.Linear(data_dim, hidden_dim),\n",
    "            nn.LeakyReLU(0.2, inplace=True),\n",
    "            \n",
    "            nn.Linear(hidden_dim, 1),\n",
    "            nn.Sigmoid()\n",
    "        )\n",
    "    def forward(self,x):\n",
    "        return self.model(x);"
   ]
  },
  {
   "cell_type": "code",
   "execution_count": 13,
   "id": "ae4a4728-9529-4a41-aaa0-e68478469251",
   "metadata": {},
   "outputs": [],
   "source": [
    "G = Generator()\n",
    "D = Discriminator()\n",
    "\n",
    "criterion = nn.BCELoss()\n",
    "\n",
    "opt_G = optim.Adam(G.parameters(), lr=lr)\n",
    "opt_D = optim.Adam(D.parameters(), lr=lr)"
   ]
  },
  {
   "cell_type": "code",
   "execution_count": 14,
   "id": "7072d93f-021a-4d4e-841e-42bdf4240b71",
   "metadata": {},
   "outputs": [],
   "source": [
    "real_data = torch.randn(batch_size,data_dim)\n",
    "real_lables = torch.ones(batch_size,1)\n",
    "\n",
    "opt_D.zero_grad()\n",
    "\n",
    "out_real = D(real_data)\n",
    "loss_real = criterion(out_real,real_lables)\n",
    "\n",
    "z = torch.randn(batch_size,latent_dim)\n",
    "with torch.no_grad():\n",
    "    fake_data = G(z)\n",
    "out_fake = D(fake_data)\n",
    "fake_lables = torch.zeros(batch_size,1)\n",
    "loss_fake = criterion(out_fake,fake_lables)\n",
    "\n",
    "loss_D = loss_real+loss_fake\n",
    "loss_D.backward()\n",
    "opt_D.step()"
   ]
  },
  {
   "cell_type": "code",
   "execution_count": 15,
   "id": "07555422-3217-43e1-914a-f3633d81dd53",
   "metadata": {},
   "outputs": [],
   "source": [
    "opt_G.zero_grad()\n",
    "z = torch.randn(batch_size,latent_dim)\n",
    "fake = G(z)\n",
    "out_Df = D(fake)\n",
    "loss_G = criterion(out_Df,real_lables) \n",
    "loss_G.backward()\n",
    "opt_G.step()"
   ]
  },
  {
   "cell_type": "code",
   "execution_count": 16,
   "id": "0cd3d4d0-9bf3-43ee-aecf-e2008371ad65",
   "metadata": {},
   "outputs": [
    {
     "name": "stdout",
     "output_type": "stream",
     "text": [
      "D loss: 1.420, G loss: 0.634\n",
      "real_data shape: torch.Size([16, 1]), fake_data shape: torch.Size([16, 1])\n"
     ]
    }
   ],
   "source": [
    "print(f\"D loss: {loss_D.item():.3f}, G loss: {loss_G.item():.3f}\")\n",
    "print(f\"real_data shape: {real_data.shape}, fake_data shape: {fake.shape}\")"
   ]
  },
  {
   "cell_type": "code",
   "execution_count": null,
   "id": "870a58ca-d3b0-4dc1-80be-2e1f2ff9337a",
   "metadata": {},
   "outputs": [],
   "source": []
  }
 ],
 "metadata": {
  "kernelspec": {
   "display_name": "Python 3 (ipykernel)",
   "language": "python",
   "name": "python3"
  },
  "language_info": {
   "codemirror_mode": {
    "name": "ipython",
    "version": 3
   },
   "file_extension": ".py",
   "mimetype": "text/x-python",
   "name": "python",
   "nbconvert_exporter": "python",
   "pygments_lexer": "ipython3",
   "version": "3.9.6"
  }
 },
 "nbformat": 4,
 "nbformat_minor": 5
}

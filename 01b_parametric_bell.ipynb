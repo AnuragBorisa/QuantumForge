{
 "cells": [
  {
   "cell_type": "code",
   "execution_count": 27,
   "id": "26e5f33c-c0e0-480e-82fb-7dc3ea0a71de",
   "metadata": {},
   "outputs": [],
   "source": [
    "%matplotlib inline\n",
    "\n",
    "import numpy as np\n",
    "import matplotlib.pyplot as plt\n",
    "\n",
    "from qiskit import QuantumCircuit, transpile\n",
    "from qiskit_aer import AerSimulator\n",
    "from qiskit.circuit import Parameter\n",
    "from qiskit.quantum_info import Statevector\n"
   ]
  },
  {
   "cell_type": "code",
   "execution_count": 28,
   "id": "60a9251c-8f60-40d4-b11c-407dee737786",
   "metadata": {},
   "outputs": [
    {
     "data": {
      "text/plain": [
       "<qiskit.circuit.instructionset.InstructionSet at 0x1142ccc10>"
      ]
     },
     "execution_count": 28,
     "metadata": {},
     "output_type": "execute_result"
    }
   ],
   "source": [
    "# 1) Define the symbolic parameter\n",
    "theta = Parameter('θ')\n",
    "\n",
    "# 2) Construct a 2-qubit circuit with an RY(θ) on qubit 0 and a CNOT\n",
    "qc = QuantumCircuit(2)\n",
    "qc.ry(theta, 0)\n",
    "qc.cx(0, 1)\n",
    "\n",
    "\n",
    "\n"
   ]
  },
  {
   "cell_type": "code",
   "execution_count": 29,
   "id": "baaff8d5-3014-4352-9f2f-f827fb04d293",
   "metadata": {},
   "outputs": [],
   "source": [
    "# Choose the statevector simulator backend\n",
    "sim = Aer.get_backend('aer_simulator_statevector')\n",
    "\n",
    "# Define the range of θ values to scan\n",
    "thetas = np.linspace(0, 2 * np.pi, 50)\n",
    "\n",
    "# Prepare a list to hold the expectation values\n",
    "expectations = []\n"
   ]
  },
  {
   "cell_type": "code",
   "execution_count": 30,
   "id": "a8bd54b3-51ae-4898-9594-180af8572b0c",
   "metadata": {},
   "outputs": [],
   "source": [
    "for val in thetas:\n",
    "    # a) Bind θ → numeric value in the circuit\n",
    "    bound_qc = qc.assign_parameters({theta: val}, inplace=False)\n",
    "\n",
    "    # b) Get exact statevector from the circuit\n",
    "    sv = Statevector.from_instruction(bound_qc)\n",
    "\n",
    "    # c) Compute the probabilities for |00>,|01>,|10>,|11>\n",
    "    probs = sv.probabilities()    # array of length 4\n",
    "\n",
    "    # d) Compute ⟨Z⊗Z⟩ as +1·p00 + (−1)·p01 + (−1)·p10 + +1·p11\n",
    "    zz = probs[0] - probs[1] - probs[2] + probs[3]\n",
    "\n",
    "    expectations.append(zz)\n",
    "\n"
   ]
  },
  {
   "cell_type": "code",
   "execution_count": 31,
   "id": "77b1f688-e2a0-46af-a3f1-9c9e13c5125d",
   "metadata": {},
   "outputs": [
    {
     "data": {
      "image/png": "[encoded data removed]",
      "text/plain": [
       "<Figure size 600x400 with 1 Axes>"
      ]
     },
     "metadata": {},
     "output_type": "display_data"
    }
   ],
   "source": [
    "plt.figure(figsize=(6,4))\n",
    "plt.plot(thetas, expectations, marker='o')\n",
    "plt.xlabel('θ (radians)')\n",
    "plt.ylabel('⟨Z⊗Z⟩')\n",
    "plt.title('Parametric Bell ⟨ZZ⟩ vs θ')\n",
    "plt.grid(True)\n",
    "plt.show()\n"
   ]
  },
  {
   "cell_type": "code",
   "execution_count": null,
   "id": "bc3b9679-13f3-4b48-8532-55fbd5b5e124",
   "metadata": {},
   "outputs": [],
   "source": []
  },
  {
   "cell_type": "code",
   "execution_count": null,
   "id": "c36acb57-bb41-479b-96af-31d37885a45e",
   "metadata": {},
   "outputs": [],
   "source": []
  }
 ],
 "metadata": {
  "kernelspec": {
   "display_name": "Python 3 (ipykernel)",
   "language": "python",
   "name": "python3"
  },
  "language_info": {
   "codemirror_mode": {
    "name": "ipython",
    "version": 3
   },
   "file_extension": ".py",
   "mimetype": "text/x-python",
   "name": "python",
   "nbconvert_exporter": "python",
   "pygments_lexer": "ipython3",
   "version": "3.9.6"
  }
 },
 "nbformat": 4,
 "nbformat_minor": 5
}
